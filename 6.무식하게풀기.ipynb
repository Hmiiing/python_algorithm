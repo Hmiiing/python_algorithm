{
 "cells": [
  {
   "cell_type": "markdown",
   "metadata": {},
   "source": [
    "# 6. 무식하게 풀기"
   ]
  },
  {
   "cell_type": "markdown",
   "metadata": {},
   "source": [
    "## 1) 중첩 반복문 대체하기"
   ]
  },
  {
   "cell_type": "code",
   "execution_count": 6,
   "metadata": {},
   "outputs": [
    {
     "data": {
      "text/plain": [
       "[[0, 1, 2, 3],\n",
       " [0, 1, 2, 4],\n",
       " [0, 1, 2, 5],\n",
       " [0, 1, 2, 6],\n",
       " [0, 1, 3, 4],\n",
       " [0, 1, 3, 5],\n",
       " [0, 1, 3, 6],\n",
       " [0, 1, 4, 5],\n",
       " [0, 1, 4, 6],\n",
       " [0, 1, 5, 6],\n",
       " [0, 2, 3, 4],\n",
       " [0, 2, 3, 5],\n",
       " [0, 2, 3, 6],\n",
       " [0, 2, 4, 5],\n",
       " [0, 2, 4, 6],\n",
       " [0, 2, 5, 6],\n",
       " [0, 3, 4, 5],\n",
       " [0, 3, 4, 6],\n",
       " [0, 3, 5, 6],\n",
       " [0, 4, 5, 6],\n",
       " [1, 2, 3, 4],\n",
       " [1, 2, 3, 5],\n",
       " [1, 2, 3, 6],\n",
       " [1, 2, 4, 5],\n",
       " [1, 2, 4, 6],\n",
       " [1, 2, 5, 6],\n",
       " [1, 3, 4, 5],\n",
       " [1, 3, 4, 6],\n",
       " [1, 3, 5, 6],\n",
       " [1, 4, 5, 6],\n",
       " [2, 3, 4, 5],\n",
       " [2, 3, 4, 6],\n",
       " [2, 3, 5, 6],\n",
       " [2, 4, 5, 6],\n",
       " [3, 4, 5, 6]]"
      ]
     },
     "execution_count": 6,
     "metadata": {},
     "output_type": "execute_result"
    }
   ],
   "source": [
    "#for문 이용\n",
    "answer=[]\n",
    "n=7\n",
    "for i in range(n):\n",
    "    for j in range(i+1,n):\n",
    "        for k in range(j+1,n):\n",
    "            for l in range(k+1,n):\n",
    "                answer.append([i,j,k,l])\n",
    "answer"
   ]
  },
  {
   "cell_type": "code",
   "execution_count": 20,
   "metadata": {},
   "outputs": [
    {
     "name": "stdout",
     "output_type": "stream",
     "text": [
      "[0, 1, 2, 3]\n",
      "[0, 1, 2, 4]\n",
      "[0, 1, 2, 5]\n",
      "[0, 1, 2, 6]\n",
      "[0, 1, 3, 4]\n",
      "[0, 1, 3, 5]\n",
      "[0, 1, 3, 6]\n",
      "[0, 1, 4, 5]\n",
      "[0, 1, 4, 6]\n",
      "[0, 1, 5, 6]\n",
      "[0, 2, 3, 4]\n",
      "[0, 2, 3, 5]\n",
      "[0, 2, 3, 6]\n",
      "[0, 2, 4, 5]\n",
      "[0, 2, 4, 6]\n",
      "[0, 2, 5, 6]\n",
      "[0, 3, 4, 5]\n",
      "[0, 3, 4, 6]\n",
      "[0, 3, 5, 6]\n",
      "[0, 4, 5, 6]\n",
      "[1, 2, 3, 4]\n",
      "[1, 2, 3, 5]\n",
      "[1, 2, 3, 6]\n",
      "[1, 2, 4, 5]\n",
      "[1, 2, 4, 6]\n",
      "[1, 2, 5, 6]\n",
      "[1, 3, 4, 5]\n",
      "[1, 3, 4, 6]\n",
      "[1, 3, 5, 6]\n",
      "[1, 4, 5, 6]\n",
      "[2, 3, 4, 5]\n",
      "[2, 3, 4, 6]\n",
      "[2, 3, 5, 6]\n",
      "[2, 4, 5, 6]\n",
      "[3, 4, 5, 6]\n"
     ]
    }
   ],
   "source": [
    "def pick(n,picked,toPick):\n",
    "    #n:전체 원소의 수\n",
    "    #picked:지금까지 고른 원소들의 번호\n",
    "    #toPick:더 고를 원소의 수\n",
    "    #기저조건:앞으로 toPicked개의 원소를 고르는 모든 방법을 출력한다.\n",
    "    if toPick==0:\n",
    "        print(picked)\n",
    "        return\n",
    "    #고를 수 있는 가장 작은 번호를 계산\n",
    "    if not picked:\n",
    "        smallest=0\n",
    "    else:\n",
    "        smallest = picked[-1]+1\n",
    "    #원소를 하나 고르기\n",
    "    for next0 in range(smallest,n):\n",
    "        picked.append(next0)\n",
    "        pick(n,picked,toPick-1)\n",
    "        picked.pop(-1)\n",
    "pick(7,[],4)"
   ]
  },
  {
   "cell_type": "markdown",
   "metadata": {},
   "source": [
    "## 2) 보글게임"
   ]
  },
  {
   "cell_type": "code",
   "execution_count": 29,
   "metadata": {},
   "outputs": [],
   "source": [
    "import numpy as np\n",
    "dx=np.array([-1,-1,-1,1,1,1,0,0])\n",
    "dy=np.array([-1,0,1,-1,0,1,-1,1])\n",
    "\n",
    "def hasWord(y,x,word):\n",
    "    if(y not in range(len(board))) and (x not in range(len(board[0]))):\n",
    "        return False\n",
    "    if board[y][x] != word[0]:\n",
    "        return False\n",
    "    if len(word)==1:\n",
    "        return True\n",
    "    for direction in range(8):\n",
    "        nextY=y+dy[direction]\n",
    "        nextX=x+dx[direction]\n",
    "        if hasWord(nextY,nextX,word[1:]):\n",
    "            return True\n",
    "    return False"
   ]
  },
  {
   "cell_type": "code",
   "execution_count": 32,
   "metadata": {},
   "outputs": [
    {
     "data": {
      "text/plain": [
       "True"
      ]
     },
     "execution_count": 32,
     "metadata": {},
     "output_type": "execute_result"
    }
   ],
   "source": [
    "dx=np.array([-1,-1,-1,1,1,1,0,0])\n",
    "dy=np.array([-1,0,1,-1,0,1,-1,1])\n",
    "board = np.array([['U', 'R', 'L', 'P', 'M'], \n",
    "                  ['X', 'P', 'R', 'E', 'T'], \n",
    "                  ['G', 'I', 'A', 'E', 'T'], \n",
    "                  ['X', 'T', 'N', 'Z', 'Y'], \n",
    "                  ['X', 'O', 'Q', 'R', 'S']])\n",
    "hasWord(2,0,'GIRL')"
   ]
  }
 ],
 "metadata": {
  "kernelspec": {
   "display_name": "Python 3",
   "language": "python",
   "name": "python3"
  },
  "language_info": {
   "codemirror_mode": {
    "name": "ipython",
    "version": 3
   },
   "file_extension": ".py",
   "mimetype": "text/x-python",
   "name": "python",
   "nbconvert_exporter": "python",
   "pygments_lexer": "ipython3",
   "version": "3.7.4"
  }
 },
 "nbformat": 4,
 "nbformat_minor": 2
}
