{
 "cells": [
  {
   "cell_type": "markdown",
   "metadata": {},
   "source": [
    "# SW Expert Academy_1.List1"
   ]
  },
  {
   "cell_type": "markdown",
   "metadata": {},
   "source": [
    "## 1. max-min 구하기"
   ]
  },
  {
   "cell_type": "code",
   "execution_count": 1,
   "metadata": {},
   "outputs": [
    {
     "name": "stdout",
     "output_type": "stream",
     "text": [
      "3\n",
      "5\n",
      "477162 658880 751280 927930 297191\n",
      "#1 630739\n",
      "5\n",
      "565469 851600 460874 148692 111090\n",
      "#2 740510\n",
      "10\n",
      "784386 279993 982220 996285 614710 992232 195265 359810 919192 158175\n",
      "#3 838110\n"
     ]
    }
   ],
   "source": [
    "T = int(input())\n",
    "\n",
    "for test_case in range(1, T + 1):\n",
    "    a=int(input())\n",
    "    data=[int(x) for x in input().split()]\n",
    "    # data내의 최대 최소의 차이\n",
    "    x=max(data)-min(data)\n",
    "    print(\"#\"+str(test_case)+\" \"+str(x))"
   ]
  },
  {
   "cell_type": "markdown",
   "metadata": {},
   "source": [
    "## 2. 전기버스"
   ]
  },
  {
   "cell_type": "code",
   "execution_count": 8,
   "metadata": {},
   "outputs": [
    {
     "name": "stdout",
     "output_type": "stream",
     "text": [
      "3\n",
      "3 10 5\n",
      "1 3 5 7 9\n",
      "#1 3\n",
      "3 10 5\n",
      "1 3 7 8 9\n",
      "#2 0\n",
      "5 20 5\n",
      "4 7 9 14 17\n",
      "#3 4\n"
     ]
    }
   ],
   "source": [
    "T= int(input())\n",
    "for test_case in range(1, T + 1):\n",
    "    '''\n",
    "    k : 한 번 충전으로 최대 이동할 수 있는 정류장 수\n",
    "    n : 정류장 개수\n",
    "    m : 충전 가능한 정류장 개수\n",
    "    M : 충전 가능한 정류장\n",
    "    '''\n",
    "    k,n,m = map(int, input().split())\n",
    "    M=[int(x) for x in input().split()]\n",
    "    # b : 실제로 충전하는 정류장\n",
    "    b=max([x for x in M if x <=k])\n",
    "    # count : 충전 횟수\n",
    "    count=1\n",
    "    while (b<=n-1) & (b+k<n):\n",
    "        data=[x for x in M if x>b]\n",
    "        bus=[x for x in data if x<=b+k]\n",
    "        try:\n",
    "            b=max(bus)\n",
    "            count+=1\n",
    "        except:\n",
    "            count=0\n",
    "            break\n",
    "\n",
    "    print(\"#\"+str(test_case)+\" \"+str(count))"
   ]
  }
 ],
 "metadata": {
  "kernelspec": {
   "display_name": "Python 3",
   "language": "python",
   "name": "python3"
  },
  "language_info": {
   "codemirror_mode": {
    "name": "ipython",
    "version": 3
   },
   "file_extension": ".py",
   "mimetype": "text/x-python",
   "name": "python",
   "nbconvert_exporter": "python",
   "pygments_lexer": "ipython3",
   "version": "3.7.4"
  }
 },
 "nbformat": 4,
 "nbformat_minor": 2
}
