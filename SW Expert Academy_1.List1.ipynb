{
 "cells": [
  {
   "cell_type": "markdown",
   "metadata": {},
   "source": [
    "# SW Expert Academy_1.List1"
   ]
  },
  {
   "cell_type": "markdown",
   "metadata": {},
   "source": [
    "## 1. max-min 구하기"
   ]
  },
  {
   "cell_type": "code",
   "execution_count": 1,
   "metadata": {},
   "outputs": [
    {
     "name": "stdout",
     "output_type": "stream",
     "text": [
      "3\n",
      "5\n",
      "477162 658880 751280 927930 297191\n",
      "#1 630739\n",
      "5\n",
      "565469 851600 460874 148692 111090\n",
      "#2 740510\n",
      "10\n",
      "784386 279993 982220 996285 614710 992232 195265 359810 919192 158175\n",
      "#3 838110\n"
     ]
    }
   ],
   "source": [
    "T = int(input())\n",
    "\n",
    "for test_case in range(1, T + 1):\n",
    "    a=int(input())\n",
    "    data=[int(x) for x in input().split()]\n",
    "    # data내의 최대 최소의 차이\n",
    "    x=max(data)-min(data)\n",
    "    print(\"#\"+str(test_case)+\" \"+str(x))"
   ]
  },
  {
   "cell_type": "markdown",
   "metadata": {},
   "source": [
    "## 2. 전기버스"
   ]
  },
  {
   "cell_type": "code",
   "execution_count": 8,
   "metadata": {},
   "outputs": [
    {
     "name": "stdout",
     "output_type": "stream",
     "text": [
      "3\n",
      "3 10 5\n",
      "1 3 5 7 9\n",
      "#1 3\n",
      "3 10 5\n",
      "1 3 7 8 9\n",
      "#2 0\n",
      "5 20 5\n",
      "4 7 9 14 17\n",
      "#3 4\n"
     ]
    }
   ],
   "source": [
    "T= int(input())\n",
    "for test_case in range(1, T + 1):\n",
    "    '''\n",
    "    k : 한 번 충전으로 최대 이동할 수 있는 정류장 수\n",
    "    n : 정류장 개수\n",
    "    m : 충전 가능한 정류장 개수\n",
    "    M : 충전 가능한 정류장\n",
    "    '''\n",
    "    k,n,m = map(int, input().split())\n",
    "    M=[int(x) for x in input().split()]\n",
    "    # b : 실제로 충전하는 정류장\n",
    "    b=max([x for x in M if x <=k])\n",
    "    # count : 충전 횟수\n",
    "    count=1\n",
    "    while (b<=n-1) & (b+k<n):\n",
    "        data=[x for x in M if x>b]\n",
    "        bus=[x for x in data if x<=b+k]\n",
    "        try:\n",
    "            b=max(bus)\n",
    "            count+=1\n",
    "        except:\n",
    "            count=0\n",
    "            break\n",
    "\n",
    "    print(\"#\"+str(test_case)+\" \"+str(count))"
   ]
  },
  {
   "cell_type": "markdown",
   "metadata": {},
   "source": [
    "## 3. 숫자카드"
   ]
  },
  {
   "cell_type": "code",
   "execution_count": 1,
   "metadata": {},
   "outputs": [
    {
     "name": "stdout",
     "output_type": "stream",
     "text": [
      "3\n",
      "5\n",
      "49679\n",
      "#1 9 2\n",
      "5\n",
      "08271\n",
      "#2 8 1\n",
      "10\n",
      "7797946543\n",
      "#3 7 3\n"
     ]
    }
   ],
   "source": [
    "T = int(input())\n",
    "# 여러개의 테스트 케이스가 주어지므로, 각각을 처리합니다.\n",
    "for test_case in range(1, T + 1):\n",
    "    num=int(input())\n",
    "    data=list(x for x in input())\n",
    "    data=list(int(x) for x in data)\n",
    "    import collections\n",
    "    count=collections.Counter(data)\n",
    "    keys=sorted(count)\n",
    "    for key in keys:\n",
    "        if count[key]==max(count.values()):\n",
    "            max_key=key\n",
    "            max_count=count[key]\n",
    "    print('#'+str(test_case)+' '+str(max_key)+\" \" +str(max_count))"
   ]
  },
  {
   "cell_type": "markdown",
   "metadata": {},
   "source": [
    "## 4. 구간합"
   ]
  },
  {
   "cell_type": "code",
   "execution_count": 4,
   "metadata": {},
   "outputs": [
    {
     "name": "stdout",
     "output_type": "stream",
     "text": [
      "3\n",
      "10 3\n",
      "1 2 3 4 5 6 7 8 9 10\n",
      "#1 21\n",
      "10 5\n",
      "6262 6004 1801 7660 7919 1280 525 9798 5134 1821\n",
      "#2 11088\n",
      "20 19\n",
      "3266 9419 3087 9001 9321 1341 7379 6236 5795 8910 2990 2152 2249 4059 1394 6871 4911 3648 1969 2176\n",
      "#3 1090\n"
     ]
    }
   ],
   "source": [
    "T = int(input())\n",
    "# 여러개의 테스트 케이스가 주어지므로, 각각을 처리합니다.\n",
    "for test_case in range(1, T + 1):\n",
    "    a,b= map(int, input().split())\n",
    "    data=[int(x) for x in input().split()]\n",
    "    sum_data=[]\n",
    "    for x in range(len(data)-b+1):\n",
    "        sum_data.append(sum(data[x:x+b]))\n",
    "    print('#'+str(test_case)+' '+str(max(sum_data)-min(sum_data)))"
   ]
  }
 ],
 "metadata": {
  "kernelspec": {
   "display_name": "Python 3",
   "language": "python",
   "name": "python3"
  }
 },
 "nbformat": 4,
 "nbformat_minor": 2
}
