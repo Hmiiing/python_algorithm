{
 "cells": [
  {
   "cell_type": "markdown",
   "metadata": {},
   "source": [
    "# SW Expert Academy_3.String"
   ]
  },
  {
   "cell_type": "markdown",
   "metadata": {},
   "source": [
    "## 1. 문자열 비교"
   ]
  },
  {
   "cell_type": "code",
   "execution_count": 7,
   "metadata": {},
   "outputs": [
    {
     "name": "stdout",
     "output_type": "stream",
     "text": [
      "3\n",
      "XYPV\n",
      "EOGGXYPVSY\n",
      "#1 1\n",
      "STJJ\n",
      "HOFSTJPVPP\n",
      "#2 0\n",
      "ZYJZXZTIBSDG\n",
      "TTXGZYJZXZTIBSDGWQLW\n",
      "#3 1\n"
     ]
    }
   ],
   "source": [
    "T = int(input())\n",
    "for test_case in range(1, T + 1):\n",
    "    str1=input()\n",
    "    str2=input()\n",
    "    if str1 in str2:\n",
    "        print('#'+str(test_case)+' '+'1')\n",
    "    else:\n",
    "        print('#'+str(test_case)+' '+'0')"
   ]
  },
  {
   "cell_type": "markdown",
   "metadata": {},
   "source": [
    "## 2. 회문"
   ]
  },
  {
   "cell_type": "code",
   "execution_count": 68,
   "metadata": {},
   "outputs": [
    {
     "name": "stdout",
     "output_type": "stream",
     "text": [
      "s\n"
     ]
    },
    {
     "ename": "ValueError",
     "evalue": "invalid literal for int() with base 10: 's'",
     "output_type": "error",
     "traceback": [
      "\u001b[1;31m---------------------------------------------------------------------------\u001b[0m",
      "\u001b[1;31mValueError\u001b[0m                                Traceback (most recent call last)",
      "\u001b[1;32m<ipython-input-68-5a1f706567ea>\u001b[0m in \u001b[0;36m<module>\u001b[1;34m\u001b[0m\n\u001b[0;32m     12\u001b[0m \u001b[1;33m\u001b[0m\u001b[0m\n\u001b[0;32m     13\u001b[0m \u001b[1;33m\u001b[0m\u001b[0m\n\u001b[1;32m---> 14\u001b[1;33m \u001b[0mT\u001b[0m \u001b[1;33m=\u001b[0m \u001b[0mint\u001b[0m\u001b[1;33m(\u001b[0m\u001b[0minput\u001b[0m\u001b[1;33m(\u001b[0m\u001b[1;33m)\u001b[0m\u001b[1;33m)\u001b[0m\u001b[1;33m\u001b[0m\u001b[1;33m\u001b[0m\u001b[0m\n\u001b[0m\u001b[0;32m     15\u001b[0m \u001b[1;32mfor\u001b[0m \u001b[0mtest_case\u001b[0m \u001b[1;32min\u001b[0m \u001b[0mrange\u001b[0m\u001b[1;33m(\u001b[0m\u001b[1;36m1\u001b[0m\u001b[1;33m,\u001b[0m \u001b[0mT\u001b[0m \u001b[1;33m+\u001b[0m \u001b[1;36m1\u001b[0m\u001b[1;33m)\u001b[0m\u001b[1;33m:\u001b[0m\u001b[1;33m\u001b[0m\u001b[1;33m\u001b[0m\u001b[0m\n\u001b[0;32m     16\u001b[0m     \u001b[0mN\u001b[0m\u001b[1;33m,\u001b[0m\u001b[0mM\u001b[0m \u001b[1;33m=\u001b[0m \u001b[0mmap\u001b[0m\u001b[1;33m(\u001b[0m\u001b[0mint\u001b[0m\u001b[1;33m,\u001b[0m \u001b[0minput\u001b[0m\u001b[1;33m(\u001b[0m\u001b[1;33m)\u001b[0m\u001b[1;33m.\u001b[0m\u001b[0msplit\u001b[0m\u001b[1;33m(\u001b[0m\u001b[1;33m)\u001b[0m\u001b[1;33m)\u001b[0m\u001b[1;33m\u001b[0m\u001b[1;33m\u001b[0m\u001b[0m\n",
      "\u001b[1;31mValueError\u001b[0m: invalid literal for int() with base 10: 's'"
     ]
    }
   ],
   "source": [
    "###미완성\n",
    "import numpy as np\n",
    "def Palindrome(N,M,data):\n",
    "    break_True=False\n",
    "    for i in range(N):\n",
    "        for j in range(N-M+1):\n",
    "            if ''.join(data[i][j:j+M])==''.join(data[i][j:j+M][::-1]):\n",
    "                result=(''.join(data[i][j:j+M]))\n",
    "                break_True=True\n",
    "                break\n",
    "        if break_True==True:\n",
    "            break\n",
    "    \n",
    "T = int(input())\n",
    "for test_case in range(1, T + 1):\n",
    "    N,M = map(int, input().split())\n",
    "    data=[]\n",
    "    for i in range(N):\n",
    "        data.append(list(x for x in input()))\n",
    "    Palindrome(N,M,data)\n",
    "    if break_True==True:\n",
    "        print(result)\n",
    "    else:\n",
    "        Palindrome(N,M,np.transpose(data))\n",
    "        print(result)   \n",
    "\n",
    "        \n",
    "\n",
    "\n",
    "                \n",
    "                \n"
   ]
  },
  {
   "cell_type": "markdown",
   "metadata": {},
   "source": [
    "# 3.글자수"
   ]
  },
  {
   "cell_type": "code",
   "execution_count": 23,
   "metadata": {},
   "outputs": [
    {
     "name": "stdout",
     "output_type": "stream",
     "text": [
      "3\n",
      "XYPV\n",
      "EOGGXYPVSY\n",
      "#1 2\n",
      "STJJ\n",
      "HOFSTJPVPP\n",
      "#2 1\n",
      "ZYJZXZTIBSDG\n",
      "TTXGZYJZXZTIBSDGWQLW\n",
      "#3 3\n"
     ]
    }
   ],
   "source": [
    "T = int(input())\n",
    "# 여러개의 테스트 케이스가 주어지므로, 각각을 처리합니다.\n",
    "for test_case in range(1, T + 1):\n",
    "    str1=list(x for x in input())\n",
    "    str2=list(x for x in input())\n",
    "    import collections\n",
    "    count=collections.Counter(str2)\n",
    "    data=[]\n",
    "    for i in str1:\n",
    "        if i in count.keys():\n",
    "            data.append(count[i])\n",
    "    print('#'+str(test_case)+' '+str(max(data)))"
   ]
  }
 ],
 "metadata": {
  "kernelspec": {
   "display_name": "Python 3",
   "language": "python",
   "name": "python3"
  },
  "language_info": {
   "codemirror_mode": {
    "name": "ipython",
    "version": 3
   },
   "file_extension": ".py",
   "mimetype": "text/x-python",
   "name": "python",
   "nbconvert_exporter": "python",
   "pygments_lexer": "ipython3",
   "version": "3.7.4"
  }
 },
 "nbformat": 4,
 "nbformat_minor": 2
}
