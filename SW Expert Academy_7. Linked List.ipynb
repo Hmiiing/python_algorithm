{
 "cells": [
  {
   "cell_type": "markdown",
   "metadata": {},
   "source": [
    "# 5108. 숫자 추가"
   ]
  },
  {
   "cell_type": "code",
   "execution_count": null,
   "metadata": {},
   "outputs": [],
   "source": [
    "a = int(input())\n",
    "for i in range(a):\n",
    "    b, c, d = map(int, input().split())\n",
    "    data=[int(v) for v in input().split()]\n",
    "    for j in range(c):\n",
    "        loc,num=map(int, input().split())\n",
    "        #data의 loc 위치에 num 추가\n",
    "        data.insert(loc,num)\n",
    "    print('#{}'.format(i+1),data[d])"
   ]
  },
  {
   "cell_type": "markdown",
   "metadata": {},
   "source": [
    "# 5110. 수열 합치기"
   ]
  },
  {
   "cell_type": "code",
   "execution_count": null,
   "metadata": {},
   "outputs": [],
   "source": [
    "a = int(input())\n",
    "for i in range(a):\n",
    "    b, c = map(int, input().split())\n",
    "    data=[int(v) for v in input().split()]            \n",
    "    for j in range(c-1):\n",
    "        data2=[int(v) for v in input().split()]\n",
    "        m=min(data)\n",
    "        M=max(data)\n",
    "        # data의 최댓값보다 data2의 첫 원소가 클 경우, 뒤에 붙이기\n",
    "        if M<=data2[0]:\n",
    "            data=data+data2\n",
    "        # data의 최솟값보다 data2의 첫 원소가 작을 경우, 맨앞에 붙이기\n",
    "        elif m>data2[0]:\n",
    "            data=data2+data\n",
    "        #data의 k번째 원소가 data2의 첫 원소보다 클 경우, 삽입\n",
    "        else:\n",
    "            for k in range(len(data)):\n",
    "                if data[k]>data2[0]:\n",
    "                    data=data[:k]+data2+data[k:]\n",
    "                    break\n",
    "     #   print(data)\n",
    "    data.reverse()\n",
    "    data=[str(v) for v in data]\n",
    "    print('#{}'.format(i+1),' '.join(data[:10]))"
   ]
  },
  {
   "cell_type": "markdown",
   "metadata": {},
   "source": [
    "# 5120. 암호"
   ]
  },
  {
   "cell_type": "code",
   "execution_count": null,
   "metadata": {},
   "outputs": [],
   "source": [
    "a = int(input())\n",
    "for i in range(a):\n",
    "    b, c, d = map(int, input().split())\n",
    "    data=[int(v) for v in input().split()]\n",
    "    new_c=c\n",
    "\n",
    "    for j in range(d):\n",
    "        # new_c라는 index값이 data의 길이보다 클 경우, data의 길이만큼 빼기\n",
    "        if new_c>len(data):\n",
    "            new_c-=len(data)\n",
    "        # index가 0일 경우, data의 마지막 원소와 첫 원소를 더해서 넣기\n",
    "        if new_c==0:\n",
    "            data.insert(new_c,data[-1]+data[0])\n",
    "        # index가 data의 길이와 동일할 경우, 마지막 위치에 마지막 원소와 첫 원소를 더해서 넣기\n",
    "        elif new_c==len(data):\n",
    "            data.append(data[-1]+data[0])\n",
    "        # 그 외의 경우, index의 위치에 앞 뒤 원소의 합 넣기\n",
    "        else:\n",
    "            data.insert(new_c,data[new_c-1]+data[new_c])\n",
    "        # index값 + c\n",
    "        new_c=new_c+c\n",
    "    data.reverse()\n",
    "    data=[str(v) for v in data]\n",
    "    if len(data)>=10:\n",
    "        data=data[:10]\n",
    "    print('#{}'.format(i+1),' '.join(data))"
   ]
  },
  {
   "cell_type": "markdown",
   "metadata": {},
   "source": [
    "# 5122. 수열편집"
   ]
  },
  {
   "cell_type": "code",
   "execution_count": null,
   "metadata": {},
   "outputs": [],
   "source": [
    "a = int(input())\n",
    "for i in range(a):\n",
    "    b, c, d = map(int, input().split())\n",
    "    data=[int(v) for v in input().split()]\n",
    "    for j in range(c):\n",
    "        new=[v for v in input().split()]\n",
    "        # I일 경우, 삽입\n",
    "        if new[0]=='I':\n",
    "            data.insert(int(new[1]),int(new[2]))\n",
    "        # D일 경우, new[1]원소 제거\n",
    "        if new[0]=='D':\n",
    "            data=data[:int(new[1])]+data[int(new[1])+1:]\n",
    "        # C일 경우, 원소 바꾸기\n",
    "        if new[0]=='C':\n",
    "            data[int(new[1])]=int(new[2])\n",
    "    try:\n",
    "        print('#{}'.format(i+1),data[d])\n",
    "    except:\n",
    "        print('#{}'.format(i+1),-1)    "
   ]
  }
 ],
 "metadata": {
  "kernelspec": {
   "display_name": "Python 3",
   "language": "python",
   "name": "python3"
  },
  "language_info": {
   "codemirror_mode": {
    "name": "ipython",
    "version": 3
   },
   "file_extension": ".py",
   "mimetype": "text/x-python",
   "name": "python",
   "nbconvert_exporter": "python",
   "pygments_lexer": "ipython3",
   "version": "3.7.4"
  }
 },
 "nbformat": 4,
 "nbformat_minor": 2
}
